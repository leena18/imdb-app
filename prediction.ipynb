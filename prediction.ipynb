{
 "cells": [
  {
   "cell_type": "code",
   "execution_count": 1,
   "metadata": {},
   "outputs": [],
   "source": [
    "import numpy as np\n",
    "import tensorflow as ts\n",
    "from tensorflow.keras.datasets import imdb\n",
    "from tensorflow.keras.preprocessing import sequence\n",
    "from tensorflow.keras.models import load_model\n",
    "\n",
    "\n",
    "\n",
    "\n"
   ]
  },
  {
   "cell_type": "code",
   "execution_count": 2,
   "metadata": {},
   "outputs": [
    {
     "name": "stdout",
     "output_type": "stream",
     "text": [
      "Downloading data from https://storage.googleapis.com/tensorflow/tf-keras-datasets/imdb_word_index.json\n",
      "\u001b[1m1641221/1641221\u001b[0m \u001b[32m━━━━━━━━━━━━━━━━━━━━\u001b[0m\u001b[37m\u001b[0m \u001b[1m16s\u001b[0m 10us/step\n"
     ]
    }
   ],
   "source": [
    "word_index = imdb.get_word_index()\n",
    "reverse_word_index = {value:key for key,value in word_index.items()}\n"
   ]
  },
  {
   "cell_type": "code",
   "execution_count": 3,
   "metadata": {},
   "outputs": [
    {
     "name": "stderr",
     "output_type": "stream",
     "text": [
      "WARNING:absl:Compiled the loaded model, but the compiled metrics have yet to be built. `model.compile_metrics` will be empty until you train or evaluate the model.\n"
     ]
    },
    {
     "data": {
      "text/html": [
       "<pre style=\"white-space:pre;overflow-x:auto;line-height:normal;font-family:Menlo,'DejaVu Sans Mono',consolas,'Courier New',monospace\"><span style=\"font-weight: bold\">Model: \"sequential_2\"</span>\n",
       "</pre>\n"
      ],
      "text/plain": [
       "\u001b[1mModel: \"sequential_2\"\u001b[0m\n"
      ]
     },
     "metadata": {},
     "output_type": "display_data"
    },
    {
     "data": {
      "text/html": [
       "<pre style=\"white-space:pre;overflow-x:auto;line-height:normal;font-family:Menlo,'DejaVu Sans Mono',consolas,'Courier New',monospace\">┏━━━━━━━━━━━━━━━━━━━━━━━━━━━━━━━━━┳━━━━━━━━━━━━━━━━━━━━━━━━┳━━━━━━━━━━━━━━━┓\n",
       "┃<span style=\"font-weight: bold\"> Layer (type)                    </span>┃<span style=\"font-weight: bold\"> Output Shape           </span>┃<span style=\"font-weight: bold\">       Param # </span>┃\n",
       "┡━━━━━━━━━━━━━━━━━━━━━━━━━━━━━━━━━╇━━━━━━━━━━━━━━━━━━━━━━━━╇━━━━━━━━━━━━━━━┩\n",
       "│ embedding_1 (<span style=\"color: #0087ff; text-decoration-color: #0087ff\">Embedding</span>)         │ (<span style=\"color: #00af00; text-decoration-color: #00af00\">32</span>, <span style=\"color: #00af00; text-decoration-color: #00af00\">500</span>, <span style=\"color: #00af00; text-decoration-color: #00af00\">128</span>)         │     <span style=\"color: #00af00; text-decoration-color: #00af00\">1,280,000</span> │\n",
       "├─────────────────────────────────┼────────────────────────┼───────────────┤\n",
       "│ simple_rnn_1 (<span style=\"color: #0087ff; text-decoration-color: #0087ff\">SimpleRNN</span>)        │ (<span style=\"color: #00af00; text-decoration-color: #00af00\">32</span>, <span style=\"color: #00af00; text-decoration-color: #00af00\">128</span>)              │        <span style=\"color: #00af00; text-decoration-color: #00af00\">32,896</span> │\n",
       "├─────────────────────────────────┼────────────────────────┼───────────────┤\n",
       "│ dense_1 (<span style=\"color: #0087ff; text-decoration-color: #0087ff\">Dense</span>)                 │ (<span style=\"color: #00af00; text-decoration-color: #00af00\">32</span>, <span style=\"color: #00af00; text-decoration-color: #00af00\">1</span>)                │           <span style=\"color: #00af00; text-decoration-color: #00af00\">129</span> │\n",
       "└─────────────────────────────────┴────────────────────────┴───────────────┘\n",
       "</pre>\n"
      ],
      "text/plain": [
       "┏━━━━━━━━━━━━━━━━━━━━━━━━━━━━━━━━━┳━━━━━━━━━━━━━━━━━━━━━━━━┳━━━━━━━━━━━━━━━┓\n",
       "┃\u001b[1m \u001b[0m\u001b[1mLayer (type)                   \u001b[0m\u001b[1m \u001b[0m┃\u001b[1m \u001b[0m\u001b[1mOutput Shape          \u001b[0m\u001b[1m \u001b[0m┃\u001b[1m \u001b[0m\u001b[1m      Param #\u001b[0m\u001b[1m \u001b[0m┃\n",
       "┡━━━━━━━━━━━━━━━━━━━━━━━━━━━━━━━━━╇━━━━━━━━━━━━━━━━━━━━━━━━╇━━━━━━━━━━━━━━━┩\n",
       "│ embedding_1 (\u001b[38;5;33mEmbedding\u001b[0m)         │ (\u001b[38;5;34m32\u001b[0m, \u001b[38;5;34m500\u001b[0m, \u001b[38;5;34m128\u001b[0m)         │     \u001b[38;5;34m1,280,000\u001b[0m │\n",
       "├─────────────────────────────────┼────────────────────────┼───────────────┤\n",
       "│ simple_rnn_1 (\u001b[38;5;33mSimpleRNN\u001b[0m)        │ (\u001b[38;5;34m32\u001b[0m, \u001b[38;5;34m128\u001b[0m)              │        \u001b[38;5;34m32,896\u001b[0m │\n",
       "├─────────────────────────────────┼────────────────────────┼───────────────┤\n",
       "│ dense_1 (\u001b[38;5;33mDense\u001b[0m)                 │ (\u001b[38;5;34m32\u001b[0m, \u001b[38;5;34m1\u001b[0m)                │           \u001b[38;5;34m129\u001b[0m │\n",
       "└─────────────────────────────────┴────────────────────────┴───────────────┘\n"
      ]
     },
     "metadata": {},
     "output_type": "display_data"
    },
    {
     "data": {
      "text/html": [
       "<pre style=\"white-space:pre;overflow-x:auto;line-height:normal;font-family:Menlo,'DejaVu Sans Mono',consolas,'Courier New',monospace\"><span style=\"font-weight: bold\"> Total params: </span><span style=\"color: #00af00; text-decoration-color: #00af00\">1,313,027</span> (5.01 MB)\n",
       "</pre>\n"
      ],
      "text/plain": [
       "\u001b[1m Total params: \u001b[0m\u001b[38;5;34m1,313,027\u001b[0m (5.01 MB)\n"
      ]
     },
     "metadata": {},
     "output_type": "display_data"
    },
    {
     "data": {
      "text/html": [
       "<pre style=\"white-space:pre;overflow-x:auto;line-height:normal;font-family:Menlo,'DejaVu Sans Mono',consolas,'Courier New',monospace\"><span style=\"font-weight: bold\"> Trainable params: </span><span style=\"color: #00af00; text-decoration-color: #00af00\">1,313,025</span> (5.01 MB)\n",
       "</pre>\n"
      ],
      "text/plain": [
       "\u001b[1m Trainable params: \u001b[0m\u001b[38;5;34m1,313,025\u001b[0m (5.01 MB)\n"
      ]
     },
     "metadata": {},
     "output_type": "display_data"
    },
    {
     "data": {
      "text/html": [
       "<pre style=\"white-space:pre;overflow-x:auto;line-height:normal;font-family:Menlo,'DejaVu Sans Mono',consolas,'Courier New',monospace\"><span style=\"font-weight: bold\"> Non-trainable params: </span><span style=\"color: #00af00; text-decoration-color: #00af00\">0</span> (0.00 B)\n",
       "</pre>\n"
      ],
      "text/plain": [
       "\u001b[1m Non-trainable params: \u001b[0m\u001b[38;5;34m0\u001b[0m (0.00 B)\n"
      ]
     },
     "metadata": {},
     "output_type": "display_data"
    },
    {
     "data": {
      "text/html": [
       "<pre style=\"white-space:pre;overflow-x:auto;line-height:normal;font-family:Menlo,'DejaVu Sans Mono',consolas,'Courier New',monospace\"><span style=\"font-weight: bold\"> Optimizer params: </span><span style=\"color: #00af00; text-decoration-color: #00af00\">2</span> (12.00 B)\n",
       "</pre>\n"
      ],
      "text/plain": [
       "\u001b[1m Optimizer params: \u001b[0m\u001b[38;5;34m2\u001b[0m (12.00 B)\n"
      ]
     },
     "metadata": {},
     "output_type": "display_data"
    }
   ],
   "source": [
    "model = load_model('simple_rnn_imdb.h5')\n",
    "model.summary()"
   ]
  },
  {
   "cell_type": "code",
   "execution_count": 4,
   "metadata": {},
   "outputs": [
    {
     "data": {
      "text/plain": [
       "[array([[ 0.5901951 , -0.3663095 , -0.11758011, ..., -1.0467676 ,\n",
       "          0.30893314,  0.7162483 ],\n",
       "        [-0.12054937, -0.05132494,  0.04890255, ..., -0.04121113,\n",
       "         -0.12155088, -0.04234924],\n",
       "        [-0.08303975, -0.02013479,  0.13328919, ...,  0.00537702,\n",
       "         -0.07559735,  0.00520856],\n",
       "        ...,\n",
       "        [-0.04791391,  0.0239188 , -0.10908445, ...,  0.00955811,\n",
       "         -0.05747988, -0.02747412],\n",
       "        [ 0.03059478,  0.02870387,  0.02046735, ..., -0.00784633,\n",
       "          0.01629419, -0.01985284],\n",
       "        [ 0.1089069 , -0.01694055,  0.01540024, ..., -0.06066248,\n",
       "          0.03814457,  0.00473186]], dtype=float32),\n",
       " array([[ 0.05516604,  0.03365355,  0.15813363, ...,  0.06742307,\n",
       "          0.04358018,  0.06494901],\n",
       "        [ 0.06732518,  0.04193106,  0.07230894, ..., -0.05603248,\n",
       "          0.04946485,  0.09481115],\n",
       "        [ 0.02559064,  0.03158671, -0.12795271, ..., -0.11215813,\n",
       "          0.09134184, -0.14656083],\n",
       "        ...,\n",
       "        [ 0.09869107,  0.11735773, -0.05597092, ...,  0.15545544,\n",
       "          0.08545785, -0.05177866],\n",
       "        [ 0.11940106, -0.10101067,  0.0206322 , ..., -0.10963353,\n",
       "         -0.09156532,  0.10439858],\n",
       "        [ 0.11484151,  0.10901685, -0.1535692 , ...,  0.11261832,\n",
       "          0.09689676,  0.15321347]], dtype=float32),\n",
       " array([[ 0.11807314,  0.08183259, -0.0072758 , ..., -0.02012555,\n",
       "          0.03448138, -0.02320328],\n",
       "        [ 0.17490928,  0.08271553, -0.04366941, ..., -0.12786652,\n",
       "          0.02294097, -0.00996164],\n",
       "        [ 0.05056741,  0.1079086 ,  0.08942666, ..., -0.01958236,\n",
       "          0.01255703,  0.24952745],\n",
       "        ...,\n",
       "        [-0.02083263,  0.01348724,  0.17376034, ...,  0.0215637 ,\n",
       "         -0.00137678,  0.05780743],\n",
       "        [-0.03922106,  0.1665933 ,  0.569801  , ...,  0.16734765,\n",
       "          0.00098512, -0.03045592],\n",
       "        [-0.00254473,  0.09973407, -0.16239806, ...,  0.04578883,\n",
       "          0.6407513 ,  0.07191018]], dtype=float32),\n",
       " array([ 0.04744817, -0.00865396,  0.01651251, -0.00191076,  0.05806171,\n",
       "        -0.02038064, -0.03671939,  0.02969287, -0.01484455, -0.01652942,\n",
       "        -0.01104327,  0.0377573 , -0.02253486, -0.00426132, -0.01380776,\n",
       "        -0.02038854, -0.03187374, -0.02673304,  0.0114989 ,  0.00450518,\n",
       "        -0.01325818, -0.02149312,  0.00204684,  0.00813128,  0.05154816,\n",
       "        -0.03794439,  0.01176707, -0.03488334,  0.04158844, -0.0559312 ,\n",
       "        -0.00929043, -0.02668899,  0.00160868,  0.03191881, -0.02730346,\n",
       "        -0.01661206, -0.03875161,  0.01607738,  0.03801536, -0.03227837,\n",
       "        -0.00117877, -0.01570468, -0.01015438, -0.0218841 ,  0.03768444,\n",
       "        -0.00083611, -0.05525195,  0.03128476, -0.01133434, -0.00801154,\n",
       "         0.01172432,  0.03196326, -0.03199439, -0.01137573, -0.00527449,\n",
       "        -0.02402006, -0.03162041, -0.03080705,  0.02519308, -0.01256751,\n",
       "        -0.04892559,  0.00753574, -0.02692396,  0.02910071,  0.04529888,\n",
       "        -0.01190137,  0.01081108,  0.01234702,  0.04391072,  0.02401367,\n",
       "         0.01217351, -0.02994553,  0.02315364, -0.0301412 ,  0.03171899,\n",
       "         0.00518854, -0.02757769,  0.05130136, -0.00608084, -0.01761408,\n",
       "        -0.03373486,  0.00244912, -0.04424373, -0.02612576, -0.05639824,\n",
       "         0.00350188, -0.02254416, -0.00714785, -0.03337317, -0.00351083,\n",
       "         0.0174992 , -0.03676213,  0.01740867, -0.04956817, -0.01668989,\n",
       "        -0.05668801,  0.02625684, -0.01374884,  0.03999142, -0.02642091,\n",
       "         0.01702339, -0.03159194,  0.00225837, -0.05250577, -0.00350848,\n",
       "        -0.02440188,  0.02948554,  0.0281624 , -0.01900532,  0.02126045,\n",
       "        -0.03225582, -0.00466109, -0.00019391, -0.00662064, -0.04318961,\n",
       "         0.02573064,  0.00256259,  0.04148793, -0.03825479, -0.00754756,\n",
       "         0.00653486, -0.01230051,  0.0298335 , -0.04592793, -0.01401953,\n",
       "         0.01795586, -0.00442445,  0.0160027 ], dtype=float32),\n",
       " array([[-0.03851361],\n",
       "        [-0.0043422 ],\n",
       "        [ 0.18173087],\n",
       "        [ 0.17365016],\n",
       "        [ 0.14393999],\n",
       "        [ 0.03153225],\n",
       "        [-0.1641265 ],\n",
       "        [-0.21101421],\n",
       "        [-0.17840046],\n",
       "        [-0.21213144],\n",
       "        [ 0.00881876],\n",
       "        [-0.01311163],\n",
       "        [-0.13037413],\n",
       "        [ 0.10915179],\n",
       "        [ 0.10701463],\n",
       "        [ 0.05208054],\n",
       "        [-0.10909983],\n",
       "        [ 0.21341187],\n",
       "        [-0.13769267],\n",
       "        [ 0.02944294],\n",
       "        [ 0.0662671 ],\n",
       "        [ 0.08081714],\n",
       "        [ 0.14277878],\n",
       "        [ 0.16753295],\n",
       "        [-0.18448958],\n",
       "        [-0.08138226],\n",
       "        [ 0.08734942],\n",
       "        [ 0.1439974 ],\n",
       "        [ 0.07833318],\n",
       "        [-0.13370092],\n",
       "        [ 0.02173031],\n",
       "        [ 0.0314441 ],\n",
       "        [ 0.10290751],\n",
       "        [-0.0980919 ],\n",
       "        [ 0.03862565],\n",
       "        [ 0.03063833],\n",
       "        [ 0.2955855 ],\n",
       "        [ 0.16099879],\n",
       "        [-0.10409564],\n",
       "        [-0.06022295],\n",
       "        [ 0.18897487],\n",
       "        [ 0.18412933],\n",
       "        [-0.03941685],\n",
       "        [-0.06132895],\n",
       "        [-0.17446706],\n",
       "        [-0.20555346],\n",
       "        [-0.03885334],\n",
       "        [-0.07177497],\n",
       "        [-0.12627542],\n",
       "        [-0.05700208],\n",
       "        [-0.02040807],\n",
       "        [ 0.08636563],\n",
       "        [ 0.02523952],\n",
       "        [ 0.09196533],\n",
       "        [ 0.06730957],\n",
       "        [ 0.13964999],\n",
       "        [ 0.21695681],\n",
       "        [-0.01699336],\n",
       "        [ 0.1878527 ],\n",
       "        [-0.16602582],\n",
       "        [ 0.13495052],\n",
       "        [ 0.1800172 ],\n",
       "        [ 0.10623135],\n",
       "        [-0.18399072],\n",
       "        [ 0.24024999],\n",
       "        [ 0.16683713],\n",
       "        [ 0.15877123],\n",
       "        [ 0.19963646],\n",
       "        [-0.23937508],\n",
       "        [ 0.14356299],\n",
       "        [ 0.0505817 ],\n",
       "        [ 0.1591002 ],\n",
       "        [ 0.1615451 ],\n",
       "        [ 0.06089889],\n",
       "        [-0.1813461 ],\n",
       "        [ 0.12291574],\n",
       "        [-0.04316479],\n",
       "        [ 0.08730018],\n",
       "        [ 0.06936969],\n",
       "        [-0.05929368],\n",
       "        [ 0.03562262],\n",
       "        [-0.04996371],\n",
       "        [ 0.15356521],\n",
       "        [ 0.11855539],\n",
       "        [ 0.0013881 ],\n",
       "        [-0.10720479],\n",
       "        [ 0.07349824],\n",
       "        [ 0.07905493],\n",
       "        [ 0.2021218 ],\n",
       "        [-0.05927091],\n",
       "        [-0.14188008],\n",
       "        [-0.09231903],\n",
       "        [-0.16264302],\n",
       "        [ 0.31311002],\n",
       "        [ 0.14814752],\n",
       "        [-0.11600494],\n",
       "        [ 0.00495731],\n",
       "        [-0.01807548],\n",
       "        [ 1.3868172 ],\n",
       "        [ 0.09241053],\n",
       "        [ 0.10949184],\n",
       "        [ 0.22208324],\n",
       "        [ 0.19533204],\n",
       "        [-0.17100997],\n",
       "        [ 0.06931596],\n",
       "        [ 0.07251475],\n",
       "        [-0.15204082],\n",
       "        [-0.10523245],\n",
       "        [ 0.2817492 ],\n",
       "        [-0.17481267],\n",
       "        [-0.17701904],\n",
       "        [ 0.06677549],\n",
       "        [ 0.5376781 ],\n",
       "        [ 0.29612836],\n",
       "        [ 0.04044704],\n",
       "        [-0.12256114],\n",
       "        [-0.08951954],\n",
       "        [ 0.06118855],\n",
       "        [ 0.21392205],\n",
       "        [-0.06238154],\n",
       "        [-0.0739794 ],\n",
       "        [ 0.2082591 ],\n",
       "        [-0.15351556],\n",
       "        [ 0.05563975],\n",
       "        [ 0.0911247 ],\n",
       "        [ 0.12854764],\n",
       "        [-0.05546366],\n",
       "        [ 0.87603545]], dtype=float32),\n",
       " array([0.97099847], dtype=float32)]"
      ]
     },
     "execution_count": 4,
     "metadata": {},
     "output_type": "execute_result"
    }
   ],
   "source": [
    "model.get_weights()"
   ]
  },
  {
   "cell_type": "code",
   "execution_count": 5,
   "metadata": {},
   "outputs": [],
   "source": [
    "# 2) Helper function to decode reviews\n",
    "def decode_review(encoded_review):\n",
    "    return ' '.join([reverse_word_index.get(i-3,'?') for i in encoded_review])\n",
    "\n",
    "def preprocess_text(text):\n",
    "    words = text.lower().split()\n",
    "    encoded_review = [word_index.get(word,2) + 3 for word in words]\n",
    "    padded_review = sequence.pad_sequences([encoded_review],maxlen=500)\n",
    "    return padded_review\n",
    " \n"
   ]
  },
  {
   "cell_type": "code",
   "execution_count": 6,
   "metadata": {},
   "outputs": [],
   "source": [
    "## prediction function\n",
    "\n",
    "def predict_sentiment(review):\n",
    "    preprocessed_input = preprocess_text(review)\n",
    "    prediction = model.predict(preprocessed_input)\n",
    "\n",
    "    sentiment = 'Positive' if prediction[0][0]>0.5 else 'Negative'\n",
    "\n",
    "    return sentiment, prediction[0][0]\n"
   ]
  },
  {
   "cell_type": "markdown",
   "metadata": {},
   "source": [
    "## Example\n"
   ]
  },
  {
   "cell_type": "code",
   "execution_count": 7,
   "metadata": {},
   "outputs": [
    {
     "name": "stdout",
     "output_type": "stream",
     "text": [
      "\u001b[1m1/1\u001b[0m \u001b[32m━━━━━━━━━━━━━━━━━━━━\u001b[0m\u001b[37m\u001b[0m \u001b[1m1s\u001b[0m 1s/step\n",
      "review: The movie is fine\n",
      "Sentiment: Positive\n",
      "prediction_score: 0.9999513626098633\n"
     ]
    }
   ],
   "source": [
    "example_review = \"The movie is fine\"\n",
    "sentiment,score = predict_sentiment(example_review)\n",
    "print(f\"review: {example_review}\")\n",
    "print(f\"Sentiment: {sentiment}\")\n",
    "print(f\"prediction_score: {score}\")\n"
   ]
  },
  {
   "cell_type": "code",
   "execution_count": null,
   "metadata": {},
   "outputs": [],
   "source": []
  }
 ],
 "metadata": {
  "kernelspec": {
   "display_name": "Python 3",
   "language": "python",
   "name": "python3"
  },
  "language_info": {
   "codemirror_mode": {
    "name": "ipython",
    "version": 3
   },
   "file_extension": ".py",
   "mimetype": "text/x-python",
   "name": "python",
   "nbconvert_exporter": "python",
   "pygments_lexer": "ipython3",
   "version": "3.12.4"
  }
 },
 "nbformat": 4,
 "nbformat_minor": 2
}
